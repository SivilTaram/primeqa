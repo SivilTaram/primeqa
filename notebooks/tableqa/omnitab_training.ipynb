{
 "cells": [
  {
   "cell_type": "markdown",
   "metadata": {},
   "source": [
    "# OminTab based Table Question Answering: Training Example\n",
    "In this notebook, we will show how to use our train a TableQA model based on tapex to answer questions over a table. The pre-trained model is available in huggingface and is trained on wiktablequestions dataset."
   ]
  },
  {
   "cell_type": "code",
   "execution_count": null,
   "metadata": {},
   "outputs": [],
   "source": [
    "from primeqa.components.reader_component import ReaderComponent\n",
    "import pandas as pd\n",
    "# Define the `dataset name` output_directory and other `hyperparamter` values in the config file.\n",
    "omnitab_reader = ReaderComponent('TapexModel',\"../../primeqa/tableqa/tapex/configs/omnitab_config_finetune_wtq.json\")\n",
    "\n",
    "omnitab_reader.train()"
   ]
  },
  {
   "cell_type": "code",
   "execution_count": null,
   "metadata": {},
   "outputs": [],
   "source": [
    "# Testing the trained model\n",
    "# Load the Table \n",
    "data = {\"Actors\": [\"Brad Pitt\", \"Leonardo Di Caprio\",\n",
    "                        \"George Clooney\"], \"Number of movies\": [\"87\", \"53\", \"69\"]}\n",
    "print(pd.DataFrame.from_dict(data))"
   ]
  },
  {
   "cell_type": "code",
   "execution_count": null,
   "metadata": {},
   "outputs": [],
   "source": [
    "queries = [\"how many movies Brad Pitt acted in\", \"Name the actor who has been in 53 movies\"]\n",
    "answers = omnitab_reader.predict(data,queries)\n",
    "print(\"answers\" , answers)"
   ]
  }
 ],
 "metadata": {
  "kernelspec": {
   "display_name": "Python 3.7.13",
   "language": "python",
   "name": "python3"
  },
  "language_info": {
   "name": "python",
   "version": "3.7.13"
  },
  "orig_nbformat": 4,
  "vscode": {
   "interpreter": {
    "hash": "1123b6107f42b6697a5a39c024fbef081697ea5b38d97b196d4e1cf900f7b6b6"
   }
  }
 },
 "nbformat": 4,
 "nbformat_minor": 2
}
